{
 "cells": [
  {
   "cell_type": "code",
   "execution_count": 1,
   "id": "405403a3",
   "metadata": {},
   "outputs": [],
   "source": [
    "%load_ext autoreload\n",
    "%autoreload 2"
   ]
  },
  {
   "cell_type": "code",
   "execution_count": 2,
   "id": "9bac8984",
   "metadata": {},
   "outputs": [],
   "source": [
    "import matplotlib.pyplot as plt\n",
    "\n",
    "plt.rcParams['figure.figsize'] = [5, 5]\n",
    "plt.rcParams['figure.dpi'] = 60\n",
    "plt.rcParams['font.family'] = 'serif'"
   ]
  },
  {
   "cell_type": "code",
   "execution_count": 3,
   "id": "6d2bff79",
   "metadata": {},
   "outputs": [],
   "source": [
    "from sipmarray import SiPMunit\n",
    "from sipmarray import SiPMarray"
   ]
  },
  {
   "cell_type": "markdown",
   "id": "af58af71",
   "metadata": {},
   "source": [
    "### SiPM unit"
   ]
  },
  {
   "cell_type": "code",
   "execution_count": 4,
   "id": "7ee7da80",
   "metadata": {},
   "outputs": [
    {
     "name": "stdout",
     "output_type": "stream",
     "text": [
      "Model: S13370-3050, \"3x3\", by Hamamatsu\n",
      "Total unit area: 42.47 mm^2\n",
      "Active area: 9 mm^2\n",
      "Active area fraction: 0.21\n",
      "Width tolerance: 0.15 mm\n",
      "Height tolerance: 0.15 mm\n"
     ]
    }
   ],
   "source": [
    "mppc = SiPMunit(model = '3x3')\n",
    "mppc.print_properties()"
   ]
  },
  {
   "cell_type": "code",
   "execution_count": 5,
   "id": "31904e04",
   "metadata": {
    "scrolled": false
   },
   "outputs": [
    {
     "data": {
      "image/png": "[encoded data removed]",
      "text/plain": [
       "<Figure size 300x300 with 1 Axes>"
      ]
     },
     "metadata": {},
     "output_type": "display_data"
    }
   ],
   "source": [
    "mppc.plot_model()"
   ]
  },
  {
   "cell_type": "markdown",
   "id": "5c2903f0",
   "metadata": {},
   "source": [
    "### SiPM array"
   ]
  },
  {
   "cell_type": "code",
   "execution_count": 6,
   "id": "3fc817be",
   "metadata": {},
   "outputs": [
    {
     "name": "stdout",
     "output_type": "stream",
     "text": [
      "Array diameter: 50 mm\n",
      "Margin from the array edge: 0 mm\n",
      "Number of units: 12\n",
      "Total array area: 1963.50 mm^2\n",
      "Total SiPM area: 1124.76 mm^2\n",
      "Total SiPM active area: 432.00 mm^2\n"
     ]
    }
   ],
   "source": [
    "array = SiPMarray(array_diameter=50, border_margin=0, sipm_model = '6x6')\n",
    "array.print_properties()"
   ]
  },
  {
   "cell_type": "code",
   "execution_count": 7,
   "id": "72a30652",
   "metadata": {},
   "outputs": [
    {
     "name": "stdout",
     "output_type": "stream",
     "text": [
      "Number of SiPMs:  12\n"
     ]
    }
   ],
   "source": [
    "print('Number of SiPMs: ', array.n_sipms)"
   ]
  },
  {
   "cell_type": "markdown",
   "id": "ea32384f",
   "metadata": {},
   "source": [
    "## Plot the array"
   ]
  },
  {
   "cell_type": "code",
   "execution_count": 8,
   "id": "f7f896c3",
   "metadata": {},
   "outputs": [
    {
     "name": "stderr",
     "output_type": "stream",
     "text": [
      "/disk/groups/atp/miniconda3/envs/playground/lib/python3.10/site-packages/numpy/core/fromnumeric.py:43: UserWarning: Warning: converting a masked element to nan.\n",
      "  result = getattr(asarray(obj), method)(*args, **kwds)\n",
      "/home/atp/rperes/software/sipmarray/src/sipmarray/array.py:320: UserWarning: Legend does not support handles for PatchCollection instances.\n",
      "See: https://matplotlib.org/stable/tutorials/intermediate/legend_guide.html#implementing-a-custom-legend-handler\n",
      "  ax.legend()\n"
     ]
    },
    {
     "data": {
      "image/png": "[encoded data removed]",
      "text/plain": [
       "<Figure size 300x300 with 1 Axes>"
      ]
     },
     "metadata": {},
     "output_type": "display_data"
    }
   ],
   "source": [
    "active_centres = array.get_centres()\n",
    "geometric_centre = array.get_centres(active_area=False)\n",
    "\n",
    "fig, ax = plt.subplots(1,1)\n",
    "fig, ax = array.plot_sipm_array(figax= (fig,ax))\n",
    "\n",
    "corners_active = array.get_corners_active()\n",
    "corners_package = array.get_corners_package()\n",
    "\n",
    "for centre_i in range(array.n_sipms):\n",
    "    _x_active = active_centres[0,centre_i]\n",
    "    _y_active = active_centres[1,centre_i]\n",
    "    ax.plot(_x_active, _y_active, 'x', color = 'red', markersize = 8)\n",
    "\n",
    "    _x_geometric = geometric_centre[0,centre_i]\n",
    "    _y_geometric = geometric_centre[1,centre_i]\n",
    "    ax.plot(_x_geometric, _y_geometric, 'x', color = 'green', markersize = 8)\n",
    "\n",
    "    _ax_corner = corners_active[0,centre_i]\n",
    "    _ay_corner = corners_active[1,centre_i]\n",
    "    _bx_corner = corners_active[2,centre_i]\n",
    "    _by_corner = corners_active[3,centre_i]\n",
    "    _cx_corner = corners_active[4,centre_i]\n",
    "    _cy_corner = corners_active[5,centre_i]\n",
    "    _dx_corner = corners_active[6,centre_i]\n",
    "    _dy_corner = corners_active[7,centre_i]\n",
    "\n",
    "    ax.plot(_ax_corner, _ay_corner, '^', color = 'blue', markersize = 8)\n",
    "    ax.plot(_bx_corner, _by_corner, '^', color = 'yellow', markersize = 8)\n",
    "    ax.plot(_cx_corner, _cy_corner, '^', color = 'orange', markersize = 8)\n",
    "    ax.plot(_dx_corner, _dy_corner, '^', color = 'cyan', markersize = 8)\n",
    "\n",
    "    _ax_corner = corners_package[0,centre_i]\n",
    "    _ay_corner = corners_package[1,centre_i]\n",
    "    _bx_corner = corners_package[2,centre_i]\n",
    "    _by_corner = corners_package[3,centre_i]\n",
    "    _cx_corner = corners_package[4,centre_i]\n",
    "    _cy_corner = corners_package[5,centre_i]\n",
    "    _dx_corner = corners_package[6,centre_i]\n",
    "    _dy_corner = corners_package[7,centre_i]\n",
    "\n",
    "    ax.plot(_ax_corner, _ay_corner, '*', color = 'blue', markersize = 8)\n",
    "    ax.plot(_bx_corner, _by_corner, '*', color = 'yellow', markersize = 8)\n",
    "    ax.plot(_cx_corner, _cy_corner, '*', color = 'orange', markersize = 8)\n",
    "    ax.plot(_dx_corner, _dy_corner, '*', color = 'cyan', markersize = 8)\n",
    "\n",
    "\n",
    "fig.savefig('test.pdf')\n",
    "plt.show()"
   ]
  },
  {
   "cell_type": "markdown",
   "id": "9ed630e4",
   "metadata": {},
   "source": [
    "### Export the corners"
   ]
  },
  {
   "cell_type": "code",
   "execution_count": 9,
   "id": "149c4802",
   "metadata": {},
   "outputs": [],
   "source": [
    "array.export_corners_active(file_name='corners_active.csv')\n",
    "array.export_corners_package(file_name='corners_package.csv')\n",
    "array.export_centres(file_name = 'centres.csv')"
   ]
  }
 ],
 "metadata": {
  "kernelspec": {
   "display_name": "Python 3 (ipykernel)",
   "language": "python",
   "name": "python3"
  },
  "language_info": {
   "codemirror_mode": {
    "name": "ipython",
    "version": 3
   },
   "file_extension": ".py",
   "mimetype": "text/x-python",
   "name": "python",
   "nbconvert_exporter": "python",
   "pygments_lexer": "ipython3",
   "version": "3.10.9"
  }
 },
 "nbformat": 4,
 "nbformat_minor": 5
}
